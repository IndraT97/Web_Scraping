{
  "cells": [
    {
      "cell_type": "markdown",
      "metadata": {
        "id": "xMxF1fPD1XE0"
      },
      "source": [
        "#**Scraping Amazon Bestsellers in books** "
      ]
    },
    {
      "cell_type": "markdown",
      "metadata": {
        "id": "oHQGK-PG1p4D"
      },
      "source": [
        "###**Importing Required libraries**"
      ]
    },
    {
      "cell_type": "code",
      "execution_count": 1,
      "metadata": {
        "id": "HqHGCTkGj9qR",
        "colab": {
          "base_uri": "https://localhost:8080/"
        },
        "outputId": "ee72b799-311a-4295-b818-b2d7e89a2809"
      },
      "outputs": [
        {
          "output_type": "stream",
          "name": "stdout",
          "text": [
            "\u001b[?25l\r\u001b[K     |██▋                             | 10 kB 18.9 MB/s eta 0:00:01\r\u001b[K     |█████▏                          | 20 kB 23.6 MB/s eta 0:00:01\r\u001b[K     |███████▊                        | 30 kB 27.2 MB/s eta 0:00:01\r\u001b[K     |██████████▎                     | 40 kB 21.0 MB/s eta 0:00:01\r\u001b[K     |████████████▉                   | 51 kB 10.0 MB/s eta 0:00:01\r\u001b[K     |███████████████▍                | 61 kB 11.7 MB/s eta 0:00:01\r\u001b[K     |██████████████████              | 71 kB 9.3 MB/s eta 0:00:01\r\u001b[K     |████████████████████▌           | 81 kB 10.0 MB/s eta 0:00:01\r\u001b[K     |███████████████████████         | 92 kB 11.0 MB/s eta 0:00:01\r\u001b[K     |█████████████████████████▋      | 102 kB 10.4 MB/s eta 0:00:01\r\u001b[K     |████████████████████████████▏   | 112 kB 10.4 MB/s eta 0:00:01\r\u001b[K     |██████████████████████████████▊ | 122 kB 10.4 MB/s eta 0:00:01\r\u001b[K     |████████████████████████████████| 128 kB 10.4 MB/s \n",
            "\u001b[?25h"
          ]
        }
      ],
      "source": [
        "!pip install BeautifulSoup4 --upgrade --quiet\n",
        "from bs4 import BeautifulSoup \n",
        "!pip install pandas --quiet\n",
        "import pandas as pd\n",
        "!pip install requests --quiet\n",
        "import requests"
      ]
    },
    {
      "cell_type": "code",
      "source": [
        "def num(x):\n",
        "  return x[1:]\n",
        "def mrp_num(x):\n",
        "  return x[1:]\n",
        "def rate(x):\n",
        "  return x[:3]"
      ],
      "metadata": {
        "id": "pdUJpPlEtO15"
      },
      "execution_count": 61,
      "outputs": []
    },
    {
      "cell_type": "code",
      "source": [
        "list1 = [1,2]\n",
        "Sr_no = []\n",
        "Name_list = []\n",
        "Ratings_list = []\n",
        "Type_list = []\n",
        "MRP_list = []\n",
        "for number in list1:\n",
        "    response = requests.get(\"https://www.amazon.in/gp/bestsellers/books/ref=zg_bs_pg_2?ie=UTF8&pg={}\".format(number))\n",
        "    doc = BeautifulSoup(response.text,\"html.parser\")\n",
        "\n",
        "    Serial_number = doc.find_all(\"span\",{\"class\":\"zg-bdg-text\"})\n",
        "    for i in range(len(Serial_number)):\n",
        "        Sr_no.append(num(Serial_number[i].text))\n",
        "    Name = doc.find_all(\"div\",{\"class\":\"_cDEzb_p13n-sc-css-line-clamp-1_1Fn1y\"})\n",
        "    for i in range(0,len(Name),2):\n",
        "        Name_list.append(Name[i].text)\n",
        "    Ratings = doc.find_all(\"span\",{\"class\":\"a-icon-alt\"})\n",
        "    Type = doc.find_all(\"span\",{\"class\":\"a-size-small a-color-secondary a-text-normal\"})\n",
        "    MRP = doc.find_all(\"span\",{\"class\":\"a-color-secondary\",\"class\":\"p13n-sc-price\"})\n",
        "    for a in range(len(Ratings)):\n",
        "        Ratings_list.append(rate(Ratings[a].text))\n",
        "        Type_list.append(Type[a].text)\n",
        "        MRP_list.append(mrp_num(MRP[a].text))"
      ],
      "metadata": {
        "id": "hRfqbFhNrwxO"
      },
      "execution_count": 62,
      "outputs": []
    },
    {
      "cell_type": "code",
      "source": [
        "df = pd.DataFrame([Sr_no,Name_list,Ratings_list,Type_list,MRP_list]).T\n",
        "df.columns = [\"Sr_no\",\"Name\",\"Ratings\",\"Type\",\"MRP\"]\n",
        "df.to_csv(\"Best Selling Book Data final.csv\",index = False)"
      ],
      "metadata": {
        "id": "A7gvO2aGyhoI"
      },
      "execution_count": 63,
      "outputs": []
    }
  ],
  "metadata": {
    "colab": {
      "name": "Amazon.com web Scraping.ipynb",
      "provenance": [],
      "collapsed_sections": []
    },
    "kernelspec": {
      "display_name": "Python 3",
      "name": "python3"
    },
    "language_info": {
      "name": "python"
    }
  },
  "nbformat": 4,
  "nbformat_minor": 0
}