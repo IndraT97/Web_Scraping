{
  "nbformat": 4,
  "nbformat_minor": 0,
  "metadata": {
    "colab": {
      "name": "Flipkart Web Scraping.ipynb",
      "provenance": [],
      "collapsed_sections": []
    },
    "kernelspec": {
      "name": "python3",
      "display_name": "Python 3"
    },
    "language_info": {
      "name": "python"
    }
  },
  "cells": [
    {
      "cell_type": "markdown",
      "source": [
        "# **Web Scraping of flipkart Stationary Category**"
      ],
      "metadata": {
        "id": "U_ji68SAXfY7"
      }
    },
    {
      "cell_type": "markdown",
      "source": [
        "## Listing categories available on the flipkart website"
      ],
      "metadata": {
        "id": "sflZ2sRMXxkJ"
      }
    },
    {
      "cell_type": "code",
      "execution_count": 273,
      "metadata": {
        "id": "26MrT-AmTeDh"
      },
      "outputs": [],
      "source": [
        "!pip install pandas --quiet\n",
        "import pandas as pd\n",
        "!pip install requests --quiet\n",
        "import requests"
      ]
    },
    {
      "cell_type": "code",
      "source": [
        "response = requests.get(\"https://www.flipkart.com/the-stationery-store?fm=neo%2Fmerchandising&iid=M_d8a22038-d0a0-4ee3-b856-f6dfe965eff1_1_372UD5BXDFYS_MC.JNOTUFQEWK7F&otracker=hp_rich_navigation_10_1.navigationCard.RICH_NAVIGATION_Beauty%252C%2BToys%2B%2526%2BMore~Stationery%2B%2526%2BOffice%2BSupplies_JNOTUFQEWK7F&otracker1=hp_rich_navigation_PINNED_neo%2Fmerchandising_NA_NAV_EXPANDABLE_navigationCard_cc_10_L1_view-all&cid=JNOTUFQEWK7F\")\n",
        "response.status_code"
      ],
      "metadata": {
        "colab": {
          "base_uri": "https://localhost:8080/"
        },
        "id": "Br-CT883YgZm",
        "outputId": "05775d5c-fbbf-4736-91c2-5d6055adcbcf"
      },
      "execution_count": 274,
      "outputs": [
        {
          "output_type": "execute_result",
          "data": {
            "text/plain": [
              "200"
            ]
          },
          "metadata": {},
          "execution_count": 274
        }
      ]
    },
    {
      "cell_type": "code",
      "source": [
        "type(response)"
      ],
      "metadata": {
        "colab": {
          "base_uri": "https://localhost:8080/"
        },
        "id": "5053PsTVYgWG",
        "outputId": "b46b1ec1-3822-45aa-a284-cba45c2cb389"
      },
      "execution_count": 275,
      "outputs": [
        {
          "output_type": "execute_result",
          "data": {
            "text/plain": [
              "requests.models.Response"
            ]
          },
          "metadata": {},
          "execution_count": 275
        }
      ]
    },
    {
      "cell_type": "code",
      "source": [
        "len(response.text)"
      ],
      "metadata": {
        "colab": {
          "base_uri": "https://localhost:8080/"
        },
        "id": "ZkwjIB3cYgUP",
        "outputId": "fd006d04-1792-42d6-a440-09cb14684511"
      },
      "execution_count": 276,
      "outputs": [
        {
          "output_type": "execute_result",
          "data": {
            "text/plain": [
              "1024303"
            ]
          },
          "metadata": {},
          "execution_count": 276
        }
      ]
    },
    {
      "cell_type": "code",
      "source": [
        "response.text[:1000]"
      ],
      "metadata": {
        "colab": {
          "base_uri": "https://localhost:8080/",
          "height": 163
        },
        "id": "YKUk5WrOYgSE",
        "outputId": "5a4dbef0-7a19-4a97-f443-a82e4944acec"
      },
      "execution_count": 277,
      "outputs": [
        {
          "output_type": "execute_result",
          "data": {
            "text/plain": [
              "'<!doctype html><html lang=\"en\"><head><link href=\"https://rukminim1.flixcart.com\" rel=\"preconnect\"/><link rel=\"stylesheet\" href=\"//static-assets-web.flixcart.com/www/linchpin/fk-cp-zion/css/app_modules.chunk.94b5e7.css\"/><link rel=\"stylesheet\" href=\"//static-assets-web.flixcart.com/www/linchpin/fk-cp-zion/css/app.chunk.6e7580.css\"/><meta http-equiv=\"Content-type\" content=\"text/html; charset=utf-8\"/><meta http-equiv=\"X-UA-Compatible\" content=\"IE=Edge\"/><meta property=\"fb:page_id\" content=\"102988293558\"/><meta property=\"fb:admins\" content=\"658873552,624500995,100000233612389\"/><meta name=\"robots\" content=\"noodp\"/><link rel=\"shortcut icon\" href=\"https://static-assets-web.flixcart.com/www/promos/new/20150528-140547-favicon-retina.ico\"/><link type=\"application/opensearchdescription+xml\" rel=\"search\" href=\"/osdd.xml?v=2\"/><meta property=\"og:type\" content=\"website\"/><meta name=\"og_site_name\" property=\"og:site_name\" content=\"Flipkart.com\"/><link rel=\"apple-touch-icon\" sizes=\"57x57\" href=\"/apple'"
            ],
            "application/vnd.google.colaboratory.intrinsic+json": {
              "type": "string"
            }
          },
          "metadata": {},
          "execution_count": 277
        }
      ]
    },
    {
      "cell_type": "code",
      "source": [
        "page_content = response.text"
      ],
      "metadata": {
        "id": "oom_3YeeYgPY"
      },
      "execution_count": 278,
      "outputs": []
    },
    {
      "cell_type": "code",
      "source": [
        "# Saving above content in html file for reference\n",
        "with open(\"Categories_web_page.html\",\"w\") as f:\n",
        "  f.write(page_content)"
      ],
      "metadata": {
        "id": "mk17Sr8HYgMe"
      },
      "execution_count": 279,
      "outputs": []
    },
    {
      "cell_type": "markdown",
      "source": [
        "### Using Beautiful Soup to parse and extract information"
      ],
      "metadata": {
        "id": "bnFzTmC6cQiX"
      }
    },
    {
      "cell_type": "code",
      "source": [
        "!pip install BeautifulSoup4 --upgrade --quiet\n",
        "from bs4 import BeautifulSoup "
      ],
      "metadata": {
        "id": "iAwaFmt9YgKj"
      },
      "execution_count": 280,
      "outputs": []
    },
    {
      "cell_type": "code",
      "source": [
        "doc = BeautifulSoup(page_content,\"html.parser\")"
      ],
      "metadata": {
        "id": "hRJT00IXdFyr"
      },
      "execution_count": 281,
      "outputs": []
    },
    {
      "cell_type": "code",
      "source": [
        "Stationary_cat = doc.find_all(\"a\",{\"class\" : \"_2SqgSY\"})"
      ],
      "metadata": {
        "id": "B911A-vLdFw1"
      },
      "execution_count": 282,
      "outputs": []
    },
    {
      "cell_type": "code",
      "source": [
        "Stationary_cat_links = []\n",
        "for i in range(len(Stationary_cat)):\n",
        "  Stationary_cat_links.append((\"https://www.flipkart.com\" + Stationary_cat[i][\"href\"]+\"&page={}\"))\n",
        "Stationary_cat_links"
      ],
      "metadata": {
        "colab": {
          "base_uri": "https://localhost:8080/"
        },
        "id": "Ko_gTEd1dFow",
        "outputId": "9bd0f2cf-5877-4d89-cc31-76b63b7d2a5a"
      },
      "execution_count": 283,
      "outputs": [
        {
          "output_type": "execute_result",
          "data": {
            "text/plain": [
              "['https://www.flipkart.com/pens-stationery/pens/pr?sid=dgv,mqm&otracker=categorytree&page={}',\n",
              " 'https://www.flipkart.com/pens-stationery/calculators/pr?sid=dgv,qtq&otracker=categorytree&page={}',\n",
              " 'https://www.flipkart.com/pens-stationery/diaries-notebooks/pr?sid=dgv,gas&otracker=categorytree&page={}',\n",
              " 'https://www.flipkart.com/pens-stationery/art-supplies/pr?sid=dgv,j6t&otracker=categorytree&page={}',\n",
              " 'https://www.flipkart.com/pens-stationery/office-equipments/pr?sid=dgv,id7&otracker=categorytree&page={}']"
            ]
          },
          "metadata": {},
          "execution_count": 283
        }
      ]
    },
    {
      "cell_type": "markdown",
      "source": [
        "##Fetching product details - pen"
      ],
      "metadata": {
        "id": "u8I9WThsnJRw"
      }
    },
    {
      "cell_type": "code",
      "source": [
        "#page_content1 = response.text"
      ],
      "metadata": {
        "id": "_Q3kPoqThWVd"
      },
      "execution_count": 284,
      "outputs": []
    },
    {
      "cell_type": "code",
      "source": [
        "#product_details_doc = BeautifulSoup(page_content1,\"html.parser\")"
      ],
      "metadata": {
        "id": "Gs57w_rThWS3"
      },
      "execution_count": 285,
      "outputs": []
    },
    {
      "cell_type": "code",
      "source": [
        "Stationary_cat_links[0]"
      ],
      "metadata": {
        "colab": {
          "base_uri": "https://localhost:8080/",
          "height": 36
        },
        "id": "Yu50paQfhPp4",
        "outputId": "1a09769d-8aa4-474e-ca81-2ccc4253e98b"
      },
      "execution_count": 286,
      "outputs": [
        {
          "output_type": "execute_result",
          "data": {
            "text/plain": [
              "'https://www.flipkart.com/pens-stationery/pens/pr?sid=dgv,mqm&otracker=categorytree&page={}'"
            ],
            "application/vnd.google.colaboratory.intrinsic+json": {
              "type": "string"
            }
          },
          "metadata": {},
          "execution_count": 286
        }
      ]
    },
    {
      "cell_type": "code",
      "source": [
        "print(\"1 - pens\\n2 - calculators\\n3 - diaries-notebooks\\n4 - art-supplies\\n5 - office-equipments\")\n",
        "a = input(\"Select one of the category from the above list : \")\n",
        "if a == \"pens\":\n",
        "  lnk = Stationary_cat_links[0]\n",
        "elif a == \"calculators\":\n",
        "  lnk = Stationary_cat_links[1]\n",
        "elif a == \"diaries-notebooks\":\n",
        "  lnk = Stationary_cat_links[2]\n",
        "elif a == \"art-supplies\":\n",
        "  lnk = Stationary_cat_links[3]\n",
        "elif a == \"office-equipments\":\n",
        "  lnk = Stationary_cat_links[4]\n",
        "else:\n",
        "  print(\"Enter correct name\")"
      ],
      "metadata": {
        "colab": {
          "base_uri": "https://localhost:8080/"
        },
        "id": "2rNxrFgxfJLG",
        "outputId": "5369b1c1-6a08-43ff-cd16-3d5c6b08f904"
      },
      "execution_count": 287,
      "outputs": [
        {
          "name": "stdout",
          "output_type": "stream",
          "text": [
            "1 - pens\n",
            "2 - calculators\n",
            "3 - diaries-notebooks\n",
            "4 - art-supplies\n",
            "5 - office-equipments\n",
            "Select one of the category from the above list : calculators\n"
          ]
        }
      ]
    },
    {
      "cell_type": "code",
      "source": [
        "def OMRP(x):\n",
        "  return x[1:]"
      ],
      "metadata": {
        "id": "Q2lKzKDumCd6"
      },
      "execution_count": 288,
      "outputs": []
    },
    {
      "cell_type": "code",
      "source": [
        "product_name_list = []\n",
        "product_MRP = []\n",
        "product_avg_rating = []\n",
        "links = []\n",
        "pages = [a for a in range(1,3)]\n",
        "for page in pages:\n",
        "    response = requests.get(lnk.format(page))\n",
        "\n",
        "    page_content1 = response.text\n",
        "    product_details_doc = BeautifulSoup(page_content1,\"html.parser\")\n",
        "\n",
        "    Product_name = product_details_doc.find_all(\"a\",{\"class\":\"s1Q9rs\"})\n",
        "    product_links_list = []\n",
        "    for i in range(len(Product_name)):\n",
        "        product_links_list.append(\"https://www.flipkart.com\" + Product_name[i][\"href\"])\n",
        "\n",
        "    for i in range(len(product_links_list)):\n",
        "        response = requests.get(product_links_list[i])\n",
        "        pdt_name_doc = BeautifulSoup(response.text,\"html.parser\")\n",
        "        pdt_name = pdt_name_doc.find_all(\"span\",{\"class\":\"B_NuCI\"})\n",
        "        product_name_list.append(pdt_name[0].text)\n",
        "        pdt_MRP = pdt_name_doc.find_all(\"div\",{\"class\":\"_30jeq3 _16Jk6d\"})\n",
        "        product_MRP.append(OMRP(pdt_MRP[0].text))\n",
        "        pdt_avg_rating = pdt_name_doc.find_all(\"div\",{\"class\":\"_3LWZlK\"})\n",
        "        product_avg_rating.append(pdt_avg_rating[0].text)\n",
        "        links.append(product_links_list[i])\n"
      ],
      "metadata": {
        "id": "HlhjPDD6DC6N"
      },
      "execution_count": 289,
      "outputs": []
    },
    {
      "cell_type": "code",
      "source": [
        "df = pd.DataFrame([product_name_list,product_MRP,product_avg_rating,links]).T\n",
        "df.columns = [\"Product Name\",\"MRP\",]\n",
        "df.to_csv(\"Product_details_final_output.csv\")"
      ],
      "metadata": {
        "id": "8xOmxCtX92s2"
      },
      "execution_count": 292,
      "outputs": []
    },
    {
      "cell_type": "markdown",
      "source": [
        "Extracting name from each individual product link - 2"
      ],
      "metadata": {
        "id": "jvbBbYLT6qYP"
      }
    },
    {
      "cell_type": "code",
      "source": [
        "# Product_name = product_details_doc.find_all(\"a\",{\"class\":\"s1Q9rs\"})\n",
        "# product_name_list1 = []\n",
        "# for i in range(len(Product_name)):\n",
        "#     product_name_list1.append(Product_name[i][\"title\"])\n",
        "# len(product_name_list1)\n",
        "# a = []\n",
        "# response = requests.get(Stationary_cat_links[0])\n",
        "# product_details_doc = BeautifulSoup(response.text,\"html.parser\")\n",
        "# Product_name = product_details_doc.find_all(\"a\",{\"class\":\"s1Q9rs\"})\n",
        "# for i in range(len(Product_name)):\n",
        "#     a.append(Product_name[i].find_next_sibling())\n",
        "# prd_desc = []\n",
        "# for i in range(len(a)):\n",
        "#     prd_desc.append(a[i].text)"
      ],
      "metadata": {
        "id": "ifGvWsBe6rzr"
      },
      "execution_count": 291,
      "outputs": []
    }
  ]
}