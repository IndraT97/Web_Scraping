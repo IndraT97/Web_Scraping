{
  "cells": [
    {
      "cell_type": "markdown",
      "metadata": {
        "id": "CuWlbtOFRPp5"
      },
      "source": [
        "# **Scraping Top repositories for Github Topics**"
      ]
    },
    {
      "cell_type": "markdown",
      "metadata": {
        "id": "6qwr6-tsRyFC"
      },
      "source": [
        "# **Pick a website and describe your objective**\n",
        "\n",
        "- Browse through different sites and pick on to scrape. Check the \"Project Ideas\" section for inspiration.\n",
        "- Identify the information you'd like to scrape from the site. Decide the format of the output CSV file.\n",
        "- Summarize your project idea and outline your strategy in a Juptyer notebook. Use the \"New\" button above."
      ]
    },
    {
      "cell_type": "markdown",
      "metadata": {
        "id": "7_WpSs_xUp4R"
      },
      "source": [
        "Outline / Strategy - \n",
        "- We are going to scrape https://github.com/topics\n",
        "- We'll get the list of topics and for each topics we will fetch the topics title,topic page URL and topic description.\n",
        "- In each topic we will get the first 20 repositories. For each repositories we will grab the repo name,user name, count of stars,Repo URL\n",
        "- For each topic , we will create seperate CSV file.\n",
        "- Tools used - (Python, requests,BS4,Pandas,numpy)\n",
        "\n",
        "Repo,User,Count of Stars,Repo URL\n",
        "\n",
        "Three.js,mrdoob,82900,https://github.com/mrdoob/three.js\n",
        "\n",
        "Libgdx,Libgdx,20100,https://github.com/libgdx/libgdx"
      ]
    },
    {
      "cell_type": "code",
      "execution_count": null,
      "metadata": {
        "id": "GI1AolvmWrad",
        "colab": {
          "base_uri": "https://localhost:8080/"
        },
        "outputId": "4d8061da-f1d6-480e-8fa2-6a1b4b02c5fd"
      },
      "outputs": [
        {
          "output_type": "stream",
          "name": "stdout",
          "text": [
            "\u001b[?25l\r\u001b[K     |█████▏                          | 10 kB 27.2 MB/s eta 0:00:01\r\u001b[K     |██████████▍                     | 20 kB 31.8 MB/s eta 0:00:01\r\u001b[K     |███████████████▋                | 30 kB 38.0 MB/s eta 0:00:01\r\u001b[K     |████████████████████▉           | 40 kB 42.6 MB/s eta 0:00:01\r\u001b[K     |██████████████████████████      | 51 kB 43.5 MB/s eta 0:00:01\r\u001b[K     |███████████████████████████████▎| 61 kB 37.2 MB/s eta 0:00:01\r\u001b[K     |████████████████████████████████| 62 kB 1.4 MB/s \n",
            "\u001b[31mERROR: pip's dependency resolver does not currently take into account all the packages that are installed. This behaviour is the source of the following dependency conflicts.\n",
            "google-colab 1.0.0 requires requests~=2.23.0, but you have requests 2.28.0 which is incompatible.\n",
            "datascience 0.10.6 requires folium==0.2.1, but you have folium 0.8.3 which is incompatible.\u001b[0m\n",
            "\u001b[?25h"
          ]
        }
      ],
      "source": [
        "!pip install requests --upgrade --quiet\n",
        "!pip install pandas --quiet"
      ]
    },
    {
      "cell_type": "code",
      "execution_count": null,
      "metadata": {
        "id": "QPYXkMoPXfFK"
      },
      "outputs": [],
      "source": [
        "import requests\n",
        "import pandas as pd"
      ]
    },
    {
      "cell_type": "code",
      "execution_count": null,
      "metadata": {
        "id": "mFqb54YZXoGQ"
      },
      "outputs": [],
      "source": [
        "topics_URL = \"https://github.com/topics\""
      ]
    },
    {
      "cell_type": "code",
      "execution_count": null,
      "metadata": {
        "id": "GJDGKeAoX2-N"
      },
      "outputs": [],
      "source": [
        "response = requests.get(topics_URL)"
      ]
    },
    {
      "cell_type": "code",
      "execution_count": null,
      "metadata": {
        "colab": {
          "base_uri": "https://localhost:8080/"
        },
        "id": "ngH01ePtX1YY",
        "outputId": "14e1178a-8dcc-4a8f-998b-1382bbb57149"
      },
      "outputs": [
        {
          "output_type": "execute_result",
          "data": {
            "text/plain": [
              "requests.models.Response"
            ]
          },
          "metadata": {},
          "execution_count": 5
        }
      ],
      "source": [
        "type(response)"
      ]
    },
    {
      "cell_type": "code",
      "execution_count": null,
      "metadata": {
        "colab": {
          "base_uri": "https://localhost:8080/"
        },
        "id": "snP9QoH-YDjE",
        "outputId": "6fac8d96-0a0c-4f9c-e90c-d6639db7e52f"
      },
      "outputs": [
        {
          "output_type": "execute_result",
          "data": {
            "text/plain": [
              "200"
            ]
          },
          "metadata": {},
          "execution_count": 6
        }
      ],
      "source": [
        "response.status_code"
      ]
    },
    {
      "cell_type": "code",
      "execution_count": null,
      "metadata": {
        "colab": {
          "base_uri": "https://localhost:8080/"
        },
        "id": "PMJDbhZ7YRWd",
        "outputId": "c02f3279-3bc1-421c-ed2c-0e5cb36dea26"
      },
      "outputs": [
        {
          "output_type": "execute_result",
          "data": {
            "text/plain": [
              "141124"
            ]
          },
          "metadata": {},
          "execution_count": 7
        }
      ],
      "source": [
        "len(response.text)"
      ]
    },
    {
      "cell_type": "code",
      "execution_count": null,
      "metadata": {
        "id": "_x_gBXyIYc0w"
      },
      "outputs": [],
      "source": [
        "page_content = response.text"
      ]
    },
    {
      "cell_type": "code",
      "execution_count": null,
      "metadata": {
        "colab": {
          "base_uri": "https://localhost:8080/",
          "height": 127
        },
        "id": "YNRAcGsLYl6c",
        "outputId": "2b56549a-0a11-40b0-f38e-bc9fb1582695"
      },
      "outputs": [
        {
          "output_type": "execute_result",
          "data": {
            "text/plain": [
              "'\\n\\n<!DOCTYPE html>\\n<html lang=\"en\" data-color-mode=\"auto\" data-light-theme=\"light\" data-dark-theme=\"dark\" data-a11y-animated-images=\"system\">\\n  <head>\\n    <meta charset=\"utf-8\">\\n  <link rel=\"dns-prefetch\" href=\"https://github.githubassets.com\">\\n  <link rel=\"dns-prefetch\" href=\"https://avatars.githubusercontent.com\">\\n  <link rel=\"dns-prefetch\" href=\"https://github-cloud.s3.amazonaws.com\">\\n  <link rel=\"dns-prefetch\" href=\"https://user-images.githubusercontent.com/\">\\n  <link rel=\"preconnect\" href=\"https://github.githubassets.com\" crossorigin>\\n  <link rel=\"preconnect\" href=\"https://avatars.githubusercontent.com\">\\n\\n\\n\\n  <link crossorigin=\"anonymous\" media=\"all\" integrity=\"sha512-ksfTgQOOnE+FFXf+yNfVjKSlEckJAdufFIYGK7ZjRhWcZgzAGcmZqqArTgMLpu90FwthqcCX4ldDgKXbmVMeuQ==\" rel=\"stylesheet\" href=\"https://github.githubassets.com/assets/light-92c7d381038e.css\" /><link crossorigin=\"anonymous\" media=\"all\" integrity=\"sha512-1KkMNn8M/al/dtzBLupRwkIOgnA9MWkm8oxS+solP87jByEvY/g4BmoxLihRogKcX1obPnf4Yp7dI0ZTW'"
            ],
            "application/vnd.google.colaboratory.intrinsic+json": {
              "type": "string"
            }
          },
          "metadata": {},
          "execution_count": 9
        }
      ],
      "source": [
        "#First 1000 char\n",
        "page_content[:1000]"
      ]
    },
    {
      "cell_type": "code",
      "execution_count": null,
      "metadata": {
        "id": "EO7f28SsY0Rh"
      },
      "outputs": [],
      "source": [
        "# Saving the above content in a csv file.\n",
        "with open(\"Webpage.html\",\"w\") as f:\n",
        "  f.write(page_content)\n",
        "# Now to grab the info on the webpage , we need to use tool called Beautiful Soup"
      ]
    },
    {
      "cell_type": "markdown",
      "metadata": {
        "id": "FnV4GpxvR7gJ"
      },
      "source": [
        "# **Use Beautiful Soup to parse and extract information**\n",
        "\n",
        "- Parse and explore the structure of downloaded web pages using Beautiful soup.\n",
        "- Use the right properties and methods to extract the required information.\n",
        "- Create functions to extract from the page into lists and dictionaries.\n",
        "- (Optional) Use a REST API to acquire additional information if required."
      ]
    },
    {
      "cell_type": "code",
      "execution_count": null,
      "metadata": {
        "id": "4sExHondhbFD",
        "colab": {
          "base_uri": "https://localhost:8080/"
        },
        "outputId": "b8dfb4b7-54b8-4aa2-a313-4a9304d847f4"
      },
      "outputs": [
        {
          "output_type": "stream",
          "name": "stdout",
          "text": [
            "\u001b[?25l\r\u001b[K     |██▋                             | 10 kB 22.6 MB/s eta 0:00:01\r\u001b[K     |█████▏                          | 20 kB 26.9 MB/s eta 0:00:01\r\u001b[K     |███████▊                        | 30 kB 33.3 MB/s eta 0:00:01\r\u001b[K     |██████████▎                     | 40 kB 31.7 MB/s eta 0:00:01\r\u001b[K     |████████████▉                   | 51 kB 22.8 MB/s eta 0:00:01\r\u001b[K     |███████████████▍                | 61 kB 25.7 MB/s eta 0:00:01\r\u001b[K     |██████████████████              | 71 kB 24.4 MB/s eta 0:00:01\r\u001b[K     |████████████████████▌           | 81 kB 25.4 MB/s eta 0:00:01\r\u001b[K     |███████████████████████         | 92 kB 27.0 MB/s eta 0:00:01\r\u001b[K     |█████████████████████████▋      | 102 kB 28.1 MB/s eta 0:00:01\r\u001b[K     |████████████████████████████▏   | 112 kB 28.1 MB/s eta 0:00:01\r\u001b[K     |██████████████████████████████▊ | 122 kB 28.1 MB/s eta 0:00:01\r\u001b[K     |████████████████████████████████| 128 kB 28.1 MB/s \n",
            "\u001b[?25h"
          ]
        }
      ],
      "source": [
        "!pip install beautifulsoup4 --upgrade --quiet"
      ]
    },
    {
      "cell_type": "code",
      "execution_count": null,
      "metadata": {
        "id": "V7Rk2PJJhbDB"
      },
      "outputs": [],
      "source": [
        "from bs4 import BeautifulSoup\n",
        "#Module is bs4"
      ]
    },
    {
      "cell_type": "code",
      "execution_count": null,
      "metadata": {
        "id": "1aCJ3adEha8s"
      },
      "outputs": [],
      "source": [
        "doc = BeautifulSoup(page_content, 'html.parser')"
      ]
    },
    {
      "cell_type": "code",
      "execution_count": null,
      "metadata": {
        "colab": {
          "base_uri": "https://localhost:8080/"
        },
        "id": "1Cu0UHaHimjR",
        "outputId": "168c6a0f-0d51-438f-f60e-26336a6e07e6"
      },
      "outputs": [
        {
          "output_type": "execute_result",
          "data": {
            "text/plain": [
              "bs4.BeautifulSoup"
            ]
          },
          "metadata": {},
          "execution_count": 14
        }
      ],
      "source": [
        "type(doc)"
      ]
    },
    {
      "cell_type": "code",
      "execution_count": null,
      "metadata": {
        "id": "NjtGuUUAimg5"
      },
      "outputs": [],
      "source": [
        "#p_tags = doc.find_all(\"tag\",{\"key\":\"Value\"})\n",
        "Topic_title_tag = doc.find_all(\"p\",{\"class\":\"f3 lh-condensed mb-0 mt-1 Link--primary\"})"
      ]
    },
    {
      "cell_type": "code",
      "execution_count": null,
      "metadata": {
        "colab": {
          "base_uri": "https://localhost:8080/"
        },
        "id": "LecZck5rimdr",
        "outputId": "2f4c72b4-e4ed-4969-fd15-efebf41fa21e"
      },
      "outputs": [
        {
          "output_type": "execute_result",
          "data": {
            "text/plain": [
              "30"
            ]
          },
          "metadata": {},
          "execution_count": 16
        }
      ],
      "source": [
        "len(Topic_title_tag)"
      ]
    },
    {
      "cell_type": "code",
      "execution_count": null,
      "metadata": {
        "colab": {
          "base_uri": "https://localhost:8080/"
        },
        "id": "zLjkb-FGimap",
        "outputId": "99fbae58-016a-4d4e-ca1a-aae0c95b9273"
      },
      "outputs": [
        {
          "output_type": "execute_result",
          "data": {
            "text/plain": [
              "[<p class=\"f3 lh-condensed mb-0 mt-1 Link--primary\">3D</p>,\n",
              " <p class=\"f3 lh-condensed mb-0 mt-1 Link--primary\">Ajax</p>,\n",
              " <p class=\"f3 lh-condensed mb-0 mt-1 Link--primary\">Algorithm</p>,\n",
              " <p class=\"f3 lh-condensed mb-0 mt-1 Link--primary\">Amp</p>,\n",
              " <p class=\"f3 lh-condensed mb-0 mt-1 Link--primary\">Android</p>,\n",
              " <p class=\"f3 lh-condensed mb-0 mt-1 Link--primary\">Angular</p>,\n",
              " <p class=\"f3 lh-condensed mb-0 mt-1 Link--primary\">Ansible</p>,\n",
              " <p class=\"f3 lh-condensed mb-0 mt-1 Link--primary\">API</p>]"
            ]
          },
          "metadata": {},
          "execution_count": 17
        }
      ],
      "source": [
        "Topic_title_tag[:8]"
      ]
    },
    {
      "cell_type": "code",
      "execution_count": null,
      "metadata": {
        "colab": {
          "base_uri": "https://localhost:8080/"
        },
        "id": "ENmCO3MSimYz",
        "outputId": "7ddf3d8f-1b9c-41d5-d242-4c0c1f1fb721"
      },
      "outputs": [
        {
          "output_type": "execute_result",
          "data": {
            "text/plain": [
              "[<p class=\"f5 color-fg-muted mb-0 mt-1\">\n",
              "           3D modeling is the process of virtually developing the surface and structure of a 3D object.\n",
              "         </p>, <p class=\"f5 color-fg-muted mb-0 mt-1\">\n",
              "           Ajax is a technique for creating interactive web applications.\n",
              "         </p>, <p class=\"f5 color-fg-muted mb-0 mt-1\">\n",
              "           Algorithms are self-contained sequences that carry out a variety of tasks.\n",
              "         </p>, <p class=\"f5 color-fg-muted mb-0 mt-1\">\n",
              "           Amp is a non-blocking concurrency library for PHP.\n",
              "         </p>, <p class=\"f5 color-fg-muted mb-0 mt-1\">\n",
              "           Android is an operating system built by Google designed for mobile devices.\n",
              "         </p>, <p class=\"f5 color-fg-muted mb-0 mt-1\">\n",
              "           Angular is an open source web application platform.\n",
              "         </p>, <p class=\"f5 color-fg-muted mb-0 mt-1\">\n",
              "           Ansible is a simple and powerful automation engine.\n",
              "         </p>, <p class=\"f5 color-fg-muted mb-0 mt-1\">\n",
              "           An API (Application Programming Interface) is a collection of protocols and subroutines for building software.\n",
              "         </p>]"
            ]
          },
          "metadata": {},
          "execution_count": 18
        }
      ],
      "source": [
        "Topic_title_desc = doc.find_all(\"p\",{\"class\":\"f5 color-fg-muted mb-0 mt-1\"})\n",
        "Topic_title_desc[:8]"
      ]
    },
    {
      "cell_type": "code",
      "execution_count": null,
      "metadata": {
        "colab": {
          "base_uri": "https://localhost:8080/"
        },
        "id": "bpRiAOi1r3_I",
        "outputId": "97cb9920-6800-483b-bfd2-cf996a17c841"
      },
      "outputs": [
        {
          "output_type": "execute_result",
          "data": {
            "text/plain": [
              "30"
            ]
          },
          "metadata": {},
          "execution_count": 19
        }
      ],
      "source": [
        "topic_link_tags = doc.find_all(\"a\",{\"class\":\"no-underline flex-grow-0\"})\n",
        "len(topic_link_tags)"
      ]
    },
    {
      "cell_type": "code",
      "execution_count": null,
      "metadata": {
        "colab": {
          "base_uri": "https://localhost:8080/",
          "height": 36
        },
        "id": "FYMOeUlzr37h",
        "outputId": "95f4b925-d920-4f48-e2cc-932276a96806"
      },
      "outputs": [
        {
          "output_type": "execute_result",
          "data": {
            "text/plain": [
              "'/topics/3d'"
            ],
            "application/vnd.google.colaboratory.intrinsic+json": {
              "type": "string"
            }
          },
          "metadata": {},
          "execution_count": 20
        }
      ],
      "source": [
        "topic_link_tags[0][\"href\"]"
      ]
    },
    {
      "cell_type": "code",
      "execution_count": null,
      "metadata": {
        "id": "N8ReaU4rr35l"
      },
      "outputs": [],
      "source": [
        "# Creating list of topic title tag , topic title desc and topic link tag\n",
        "topic_title = []\n",
        "topic_descrptions = []\n",
        "for tags in Topic_title_tag:\n",
        "  topic_title.append(tags.text)\n",
        "for desc in Topic_title_desc:\n",
        "  topic_descrptions.append(desc.text.strip())"
      ]
    },
    {
      "cell_type": "code",
      "execution_count": null,
      "metadata": {
        "colab": {
          "base_uri": "https://localhost:8080/"
        },
        "id": "PqxZIJSKr331",
        "outputId": "584ded23-4c0b-482c-89c3-d799027b7c50"
      },
      "outputs": [
        {
          "output_type": "stream",
          "name": "stdout",
          "text": [
            "['3D', 'Ajax', 'Algorithm', 'Amp', 'Android', 'Angular', 'Ansible', 'API', 'Arduino', 'ASP.NET', 'Atom', 'Awesome Lists', 'Amazon Web Services', 'Azure', 'Babel', 'Bash', 'Bitcoin', 'Bootstrap', 'Bot', 'C', 'Chrome', 'Chrome extension', 'Command line interface', 'Clojure', 'Code quality', 'Code review', 'Compiler', 'Continuous integration', 'COVID-19', 'C++']\n"
          ]
        }
      ],
      "source": [
        "print(topic_title)"
      ]
    },
    {
      "cell_type": "code",
      "execution_count": null,
      "metadata": {
        "colab": {
          "base_uri": "https://localhost:8080/"
        },
        "id": "gLZpvEm4r30f",
        "outputId": "512ddbb4-7b8e-4613-cd39-95dfc4431f62"
      },
      "outputs": [
        {
          "output_type": "execute_result",
          "data": {
            "text/plain": [
              "['3D modeling is the process of virtually developing the surface and structure of a 3D object.',\n",
              " 'Ajax is a technique for creating interactive web applications.',\n",
              " 'Algorithms are self-contained sequences that carry out a variety of tasks.']"
            ]
          },
          "metadata": {},
          "execution_count": 23
        }
      ],
      "source": [
        "topic_descrptions[:3]"
      ]
    },
    {
      "cell_type": "code",
      "execution_count": null,
      "metadata": {
        "id": "SLT9zoeer3xO"
      },
      "outputs": [],
      "source": [
        "topic_links = []\n",
        "for links in topic_link_tags:\n",
        "  topic_links.append(\"https://github.com\" + links[\"href\"])"
      ]
    },
    {
      "cell_type": "code",
      "execution_count": null,
      "metadata": {
        "colab": {
          "base_uri": "https://localhost:8080/"
        },
        "id": "e17VrMEfr3vQ",
        "outputId": "39b79a24-20b3-489e-9786-c3f0754f25c1"
      },
      "outputs": [
        {
          "output_type": "execute_result",
          "data": {
            "text/plain": [
              "['https://github.com/topics/3d',\n",
              " 'https://github.com/topics/ajax',\n",
              " 'https://github.com/topics/algorithm']"
            ]
          },
          "metadata": {},
          "execution_count": 25
        }
      ],
      "source": [
        "topic_links[:3]"
      ]
    },
    {
      "cell_type": "markdown",
      "metadata": {
        "id": "gd4PUTDQSgbK"
      },
      "source": [
        "- Now, extracting info about top repositories from each topic.\n",
        "\n",
        "- Below Example is just the demo for Topic Repository--3D. We have extracted info of repository - three.js only just for reference.\n"
      ]
    },
    {
      "cell_type": "code",
      "execution_count": null,
      "metadata": {
        "colab": {
          "base_uri": "https://localhost:8080/",
          "height": 36
        },
        "id": "idjpi2hpRtTG",
        "outputId": "4f478e4f-f6bd-49c2-e742-69675e35c4e7"
      },
      "outputs": [
        {
          "output_type": "execute_result",
          "data": {
            "text/plain": [
              "'https://github.com/topics/3d'"
            ],
            "application/vnd.google.colaboratory.intrinsic+json": {
              "type": "string"
            }
          },
          "metadata": {},
          "execution_count": 26
        }
      ],
      "source": [
        "topic_links[0]"
      ]
    },
    {
      "cell_type": "code",
      "execution_count": null,
      "metadata": {
        "colab": {
          "base_uri": "https://localhost:8080/"
        },
        "id": "84yVNlxjRtQM",
        "outputId": "72c10a50-6508-42c4-f21c-cdc01940af92"
      },
      "outputs": [
        {
          "output_type": "execute_result",
          "data": {
            "text/plain": [
              "200"
            ]
          },
          "metadata": {},
          "execution_count": 27
        }
      ],
      "source": [
        "response = requests.get(topic_links[0])\n",
        "response.status_code\n",
        "# 200 indicates success"
      ]
    },
    {
      "cell_type": "code",
      "execution_count": null,
      "metadata": {
        "colab": {
          "base_uri": "https://localhost:8080/"
        },
        "id": "-TBB5-YJT7WD",
        "outputId": "a19c76d5-87cd-41a3-a265-495689b7a803"
      },
      "outputs": [
        {
          "output_type": "execute_result",
          "data": {
            "text/plain": [
              "644063"
            ]
          },
          "metadata": {},
          "execution_count": 28
        }
      ],
      "source": [
        "len(response.text)"
      ]
    },
    {
      "cell_type": "code",
      "execution_count": null,
      "metadata": {
        "id": "Qv-stF6tUHIi"
      },
      "outputs": [],
      "source": [
        "doc = BeautifulSoup(response.text, 'html.parser')"
      ]
    },
    {
      "cell_type": "code",
      "execution_count": null,
      "metadata": {
        "colab": {
          "base_uri": "https://localhost:8080/"
        },
        "id": "ZXSc_BtpRtM6",
        "outputId": "53b0a545-f84a-4150-96d7-fcc0c267b7c3"
      },
      "outputs": [
        {
          "output_type": "execute_result",
          "data": {
            "text/plain": [
              "30"
            ]
          },
          "metadata": {},
          "execution_count": 30
        }
      ],
      "source": [
        "ownername = doc.find_all(\"a\",{\"data-ga-click\":\"Explore, go to repository owner, location:explore feed\"})\n",
        "len(ownername)"
      ]
    },
    {
      "cell_type": "code",
      "execution_count": null,
      "metadata": {
        "colab": {
          "base_uri": "https://localhost:8080/",
          "height": 36
        },
        "id": "ClG-0SiRRtK8",
        "outputId": "fd30c7bb-c6d0-42c8-8191-fb2ffefb2c85"
      },
      "outputs": [
        {
          "output_type": "execute_result",
          "data": {
            "text/plain": [
              "'mrdoob'"
            ],
            "application/vnd.google.colaboratory.intrinsic+json": {
              "type": "string"
            }
          },
          "metadata": {},
          "execution_count": 31
        }
      ],
      "source": [
        "ownername[0].text.strip()"
      ]
    },
    {
      "cell_type": "code",
      "execution_count": null,
      "metadata": {
        "colab": {
          "base_uri": "https://localhost:8080/"
        },
        "id": "O4Hf10I8YAjx",
        "outputId": "bee2ea04-6a97-4098-a975-485e682a74e1"
      },
      "outputs": [
        {
          "output_type": "execute_result",
          "data": {
            "text/plain": [
              "30"
            ]
          },
          "metadata": {},
          "execution_count": 32
        }
      ],
      "source": [
        "repository_name = doc.find_all(\"a\",{\"class\":\"text-bold wb-break-word\"})\n",
        "len(repository_name)"
      ]
    },
    {
      "cell_type": "code",
      "execution_count": null,
      "metadata": {
        "colab": {
          "base_uri": "https://localhost:8080/",
          "height": 36
        },
        "id": "WRUz-rrhYAgz",
        "outputId": "3acee7a8-8628-4612-93e9-af1fe8522194"
      },
      "outputs": [
        {
          "output_type": "execute_result",
          "data": {
            "text/plain": [
              "'three.js'"
            ],
            "application/vnd.google.colaboratory.intrinsic+json": {
              "type": "string"
            }
          },
          "metadata": {},
          "execution_count": 33
        }
      ],
      "source": [
        "repository_name[0].text.strip()"
      ]
    },
    {
      "cell_type": "code",
      "execution_count": null,
      "metadata": {
        "colab": {
          "base_uri": "https://localhost:8080/",
          "height": 36
        },
        "id": "fnEnrZpEYAZj",
        "outputId": "2a378309-964b-45a6-f9c1-00804fe6d97c"
      },
      "outputs": [
        {
          "output_type": "execute_result",
          "data": {
            "text/plain": [
              "'https://github.com/mrdoob/three.js'"
            ],
            "application/vnd.google.colaboratory.intrinsic+json": {
              "type": "string"
            }
          },
          "metadata": {},
          "execution_count": 34
        }
      ],
      "source": [
        "repo_url = doc.find_all(\"a\",{\"class\":\"text-bold wb-break-word\"})\n",
        "\"https://github.com\" + repo_url[0][\"href\"]"
      ]
    },
    {
      "cell_type": "code",
      "execution_count": null,
      "metadata": {
        "colab": {
          "base_uri": "https://localhost:8080/"
        },
        "id": "6LUKLZ5bYAeb",
        "outputId": "49abe541-2b72-47c1-c01f-48bdd43bbda1"
      },
      "outputs": [
        {
          "output_type": "execute_result",
          "data": {
            "text/plain": [
              "30"
            ]
          },
          "metadata": {},
          "execution_count": 35
        }
      ],
      "source": [
        "stars = doc.find_all(\"span\",{\"id\":\"repo-stars-counter-star\"})\n",
        "len(stars)"
      ]
    },
    {
      "cell_type": "code",
      "execution_count": null,
      "metadata": {
        "colab": {
          "base_uri": "https://localhost:8080/",
          "height": 36
        },
        "id": "BdfWaqOLYAb2",
        "outputId": "d8229746-bb7a-420a-df48-c4799cf7e634"
      },
      "outputs": [
        {
          "output_type": "execute_result",
          "data": {
            "text/plain": [
              "'82.9k'"
            ],
            "application/vnd.google.colaboratory.intrinsic+json": {
              "type": "string"
            }
          },
          "metadata": {},
          "execution_count": 36
        }
      ],
      "source": [
        "stars[0].text.strip()"
      ]
    },
    {
      "cell_type": "code",
      "execution_count": null,
      "metadata": {
        "id": "UPDP5Fr9YAWx"
      },
      "outputs": [],
      "source": [
        "def parse_star_count(stars_str):\n",
        "  stars_str = stars_str.strip()\n",
        "  if stars_str[-1] == \"k\":\n",
        "    return int(float(stars_str[:-1]) * 1000)\n",
        "  else:\n",
        "    return int(stars_str)"
      ]
    },
    {
      "cell_type": "code",
      "execution_count": null,
      "metadata": {
        "colab": {
          "base_uri": "https://localhost:8080/"
        },
        "id": "emccunXiYAR4",
        "outputId": "1a7a85d3-a9de-47eb-baf5-06d15a2f0b91"
      },
      "outputs": [
        {
          "output_type": "execute_result",
          "data": {
            "text/plain": [
              "82900"
            ]
          },
          "metadata": {},
          "execution_count": 38
        }
      ],
      "source": [
        "parse_star_count(stars[0].text.strip())"
      ]
    },
    {
      "cell_type": "markdown",
      "source": [
        "- Below Function will collect info of all repo from each topic dispalyed on first page "
      ],
      "metadata": {
        "id": "__HPXrg2JjA3"
      }
    },
    {
      "cell_type": "code",
      "source": [
        "topic_repo_dict = {\"Username\":[],\"Reponame\":[],\"url\":[],\"Stars_count\":[]}"
      ],
      "metadata": {
        "id": "3M_ea1amQ1Da"
      },
      "execution_count": null,
      "outputs": []
    },
    {
      "cell_type": "code",
      "execution_count": null,
      "metadata": {
        "id": "WaR_e2YzYAOs"
      },
      "outputs": [],
      "source": [
        "def doc_prep(lnk):\n",
        "    response = requests.get(lnk)\n",
        "    doc = BeautifulSoup(response.text, 'html.parser')\n",
        "    return doc\n",
        "def repo_details(doc):\n",
        "      ownername = doc.find_all(\"a\",{\"data-ga-click\":\"Explore, go to repository owner, location:explore feed\"})\n",
        "      repository_name = doc.find_all(\"a\",{\"class\":\"text-bold wb-break-word\"})\n",
        "      repo_url = doc.find_all(\"a\",{\"class\":\"text-bold wb-break-word\"})\n",
        "      stars = doc.find_all(\"span\",{\"id\":\"repo-stars-counter-star\"})\n",
        "      #return  ownername[0].text.strip(),repository_name[0].text.strip(),\"https://github.com\" + repo_url[0][\"href\"],parse_star_count(stars[0].text.strip())\n",
        "      for i in range(30):\n",
        "          topic_repo_dict[\"Username\"].append(ownername[i].text.strip())\n",
        "          topic_repo_dict[\"Reponame\"].append(repository_name[i].text.strip())\n",
        "          topic_repo_dict[\"url\"].append(\"https://github.com\" + repo_url[i][\"href\"])\n",
        "          topic_repo_dict[\"Stars_count\"].append(parse_star_count(stars[i].text.strip()))\n",
        "      return pd.DataFrame(topic_repo_dict)\n"
      ]
    },
    {
      "cell_type": "markdown",
      "metadata": {
        "id": "LYMLLuiNSoM5"
      },
      "source": [
        "# **Create CSV file(s) with the extracted information**\n",
        "\n",
        "- Create functions for the end-to-end process of downloading, parsing, and saving CSVs.\n",
        "- Execute the function with different inputs to create a dataset of CSV files.\n",
        "- Verify the information in the CSV files by reading them back using Pandas."
      ]
    },
    {
      "cell_type": "code",
      "execution_count": null,
      "metadata": {
        "id": "3ilIbU1SOCFC"
      },
      "outputs": [],
      "source": [
        "!pip install pandas --quiet\n",
        "import pandas as pd"
      ]
    },
    {
      "cell_type": "code",
      "execution_count": null,
      "metadata": {
        "id": "WNk97VOYOCCC",
        "colab": {
          "base_uri": "https://localhost:8080/",
          "height": 206
        },
        "outputId": "3837763c-9538-41cb-d047-fb1884a24c5c"
      },
      "outputs": [
        {
          "output_type": "execute_result",
          "data": {
            "text/plain": [
              "      Topics                                         Topic_desc  \\\n",
              "0         3D  3D modeling is the process of virtually develo...   \n",
              "1       Ajax  Ajax is a technique for creating interactive w...   \n",
              "2  Algorithm  Algorithms are self-contained sequences that c...   \n",
              "3        Amp  Amp is a non-blocking concurrency library for ...   \n",
              "4    Android  Android is an operating system built by Google...   \n",
              "\n",
              "                            Topic_link  \n",
              "0         https://github.com/topics/3d  \n",
              "1       https://github.com/topics/ajax  \n",
              "2  https://github.com/topics/algorithm  \n",
              "3      https://github.com/topics/amphp  \n",
              "4    https://github.com/topics/android  "
            ],
            "text/html": [
              "\n",
              "  <div id=\"df-a26d17b7-6769-4a8d-af87-390d62ba8d5e\">\n",
              "    <div class=\"colab-df-container\">\n",
              "      <div>\n",
              "<style scoped>\n",
              "    .dataframe tbody tr th:only-of-type {\n",
              "        vertical-align: middle;\n",
              "    }\n",
              "\n",
              "    .dataframe tbody tr th {\n",
              "        vertical-align: top;\n",
              "    }\n",
              "\n",
              "    .dataframe thead th {\n",
              "        text-align: right;\n",
              "    }\n",
              "</style>\n",
              "<table border=\"1\" class=\"dataframe\">\n",
              "  <thead>\n",
              "    <tr style=\"text-align: right;\">\n",
              "      <th></th>\n",
              "      <th>Topics</th>\n",
              "      <th>Topic_desc</th>\n",
              "      <th>Topic_link</th>\n",
              "    </tr>\n",
              "  </thead>\n",
              "  <tbody>\n",
              "    <tr>\n",
              "      <th>0</th>\n",
              "      <td>3D</td>\n",
              "      <td>3D modeling is the process of virtually develo...</td>\n",
              "      <td>https://github.com/topics/3d</td>\n",
              "    </tr>\n",
              "    <tr>\n",
              "      <th>1</th>\n",
              "      <td>Ajax</td>\n",
              "      <td>Ajax is a technique for creating interactive w...</td>\n",
              "      <td>https://github.com/topics/ajax</td>\n",
              "    </tr>\n",
              "    <tr>\n",
              "      <th>2</th>\n",
              "      <td>Algorithm</td>\n",
              "      <td>Algorithms are self-contained sequences that c...</td>\n",
              "      <td>https://github.com/topics/algorithm</td>\n",
              "    </tr>\n",
              "    <tr>\n",
              "      <th>3</th>\n",
              "      <td>Amp</td>\n",
              "      <td>Amp is a non-blocking concurrency library for ...</td>\n",
              "      <td>https://github.com/topics/amphp</td>\n",
              "    </tr>\n",
              "    <tr>\n",
              "      <th>4</th>\n",
              "      <td>Android</td>\n",
              "      <td>Android is an operating system built by Google...</td>\n",
              "      <td>https://github.com/topics/android</td>\n",
              "    </tr>\n",
              "  </tbody>\n",
              "</table>\n",
              "</div>\n",
              "      <button class=\"colab-df-convert\" onclick=\"convertToInteractive('df-a26d17b7-6769-4a8d-af87-390d62ba8d5e')\"\n",
              "              title=\"Convert this dataframe to an interactive table.\"\n",
              "              style=\"display:none;\">\n",
              "        \n",
              "  <svg xmlns=\"http://www.w3.org/2000/svg\" height=\"24px\"viewBox=\"0 0 24 24\"\n",
              "       width=\"24px\">\n",
              "    <path d=\"M0 0h24v24H0V0z\" fill=\"none\"/>\n",
              "    <path d=\"M18.56 5.44l.94 2.06.94-2.06 2.06-.94-2.06-.94-.94-2.06-.94 2.06-2.06.94zm-11 1L8.5 8.5l.94-2.06 2.06-.94-2.06-.94L8.5 2.5l-.94 2.06-2.06.94zm10 10l.94 2.06.94-2.06 2.06-.94-2.06-.94-.94-2.06-.94 2.06-2.06.94z\"/><path d=\"M17.41 7.96l-1.37-1.37c-.4-.4-.92-.59-1.43-.59-.52 0-1.04.2-1.43.59L10.3 9.45l-7.72 7.72c-.78.78-.78 2.05 0 2.83L4 21.41c.39.39.9.59 1.41.59.51 0 1.02-.2 1.41-.59l7.78-7.78 2.81-2.81c.8-.78.8-2.07 0-2.86zM5.41 20L4 18.59l7.72-7.72 1.47 1.35L5.41 20z\"/>\n",
              "  </svg>\n",
              "      </button>\n",
              "      \n",
              "  <style>\n",
              "    .colab-df-container {\n",
              "      display:flex;\n",
              "      flex-wrap:wrap;\n",
              "      gap: 12px;\n",
              "    }\n",
              "\n",
              "    .colab-df-convert {\n",
              "      background-color: #E8F0FE;\n",
              "      border: none;\n",
              "      border-radius: 50%;\n",
              "      cursor: pointer;\n",
              "      display: none;\n",
              "      fill: #1967D2;\n",
              "      height: 32px;\n",
              "      padding: 0 0 0 0;\n",
              "      width: 32px;\n",
              "    }\n",
              "\n",
              "    .colab-df-convert:hover {\n",
              "      background-color: #E2EBFA;\n",
              "      box-shadow: 0px 1px 2px rgba(60, 64, 67, 0.3), 0px 1px 3px 1px rgba(60, 64, 67, 0.15);\n",
              "      fill: #174EA6;\n",
              "    }\n",
              "\n",
              "    [theme=dark] .colab-df-convert {\n",
              "      background-color: #3B4455;\n",
              "      fill: #D2E3FC;\n",
              "    }\n",
              "\n",
              "    [theme=dark] .colab-df-convert:hover {\n",
              "      background-color: #434B5C;\n",
              "      box-shadow: 0px 1px 3px 1px rgba(0, 0, 0, 0.15);\n",
              "      filter: drop-shadow(0px 1px 2px rgba(0, 0, 0, 0.3));\n",
              "      fill: #FFFFFF;\n",
              "    }\n",
              "  </style>\n",
              "\n",
              "      <script>\n",
              "        const buttonEl =\n",
              "          document.querySelector('#df-a26d17b7-6769-4a8d-af87-390d62ba8d5e button.colab-df-convert');\n",
              "        buttonEl.style.display =\n",
              "          google.colab.kernel.accessAllowed ? 'block' : 'none';\n",
              "\n",
              "        async function convertToInteractive(key) {\n",
              "          const element = document.querySelector('#df-a26d17b7-6769-4a8d-af87-390d62ba8d5e');\n",
              "          const dataTable =\n",
              "            await google.colab.kernel.invokeFunction('convertToInteractive',\n",
              "                                                     [key], {});\n",
              "          if (!dataTable) return;\n",
              "\n",
              "          const docLinkHtml = 'Like what you see? Visit the ' +\n",
              "            '<a target=\"_blank\" href=https://colab.research.google.com/notebooks/data_table.ipynb>data table notebook</a>'\n",
              "            + ' to learn more about interactive tables.';\n",
              "          element.innerHTML = '';\n",
              "          dataTable['output_type'] = 'display_data';\n",
              "          await google.colab.output.renderOutput(dataTable, element);\n",
              "          const docLink = document.createElement('div');\n",
              "          docLink.innerHTML = docLinkHtml;\n",
              "          element.appendChild(docLink);\n",
              "        }\n",
              "      </script>\n",
              "    </div>\n",
              "  </div>\n",
              "  "
            ]
          },
          "metadata": {},
          "execution_count": 45
        }
      ],
      "source": [
        "df = pd.DataFrame([topic_title,topic_descrptions,topic_links]).T\n",
        "df.columns = [\"Topics\",\"Topic_desc\",\"Topic_link\"]\n",
        "df.head()"
      ]
    },
    {
      "cell_type": "code",
      "execution_count": null,
      "metadata": {
        "id": "w8zouAtQQNkm"
      },
      "outputs": [],
      "source": [
        "# Converting into CSV ---Final_topic_list_output\n",
        "df.to_csv(\"Topic_list.csv\",index = False)"
      ]
    },
    {
      "cell_type": "code",
      "source": [
        "# Converting into CSV ---Final_Repo_Details_output\n",
        "for i in range(30):\n",
        "  repo_details(doc_prep(topic_links[i])).to_csv(\"a.csv\",index = False)"
      ],
      "metadata": {
        "id": "dJIC0Q4UKBgh"
      },
      "execution_count": null,
      "outputs": []
    },
    {
      "cell_type": "markdown",
      "metadata": {
        "id": "SEQHwgZgSoJA"
      },
      "source": [
        "# **Document and share your work**\n",
        "\n",
        "- Add proper headings and documentation in your Jupyter notebook.\n",
        "- Publish your Jupyter notebook to your Jovian profile\n",
        "- (Optional) Write a blog post about your project and share it online."
      ]
    },
    {
      "cell_type": "markdown",
      "metadata": {
        "id": "q0Ucz7GySnxt"
      },
      "source": [
        ""
      ]
    }
  ],
  "metadata": {
    "colab": {
      "collapsed_sections": [],
      "name": "Web Scrapping(Github_repo).ipynb",
      "provenance": []
    },
    "kernelspec": {
      "display_name": "Python 3",
      "name": "python3"
    },
    "language_info": {
      "name": "python"
    }
  },
  "nbformat": 4,
  "nbformat_minor": 0
}